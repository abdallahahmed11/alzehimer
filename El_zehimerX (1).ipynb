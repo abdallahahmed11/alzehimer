{
  "cells": [
    {
      "cell_type": "markdown",
      "metadata": {
        "id": "gdhrJHexMqDS"
      },
      "source": [
        "# Load Data"
      ]
    },
    {
      "cell_type": "code",
      "execution_count": 1,
      "metadata": {
        "id": "X_AMOezZMip8"
      },
      "outputs": [],
      "source": [
        "import pandas as pd\n",
        "import numpy as np\n",
        "import seaborn as sns\n",
        "import matplotlib.pyplot as plt"
      ]
    },
    {
      "cell_type": "code",
      "execution_count": 2,
      "metadata": {
        "colab": {
          "base_uri": "https://localhost:8080/"
        },
        "id": "Fq5k2FGTNDHF",
        "outputId": "77be7ebf-106c-495c-e068-7e9e6669232b"
      },
      "outputs": [
        {
          "output_type": "stream",
          "name": "stdout",
          "text": [
            "Mounted at /content/drive\n"
          ]
        }
      ],
      "source": [
        "from google.colab import drive\n",
        "drive.mount(\"/content/drive\")"
      ]
    },
    {
      "cell_type": "code",
      "execution_count": 3,
      "metadata": {
        "id": "LqeGQ3eTNha0"
      },
      "outputs": [],
      "source": [
        "df=pd.read_excel(\"/content/drive/MyDrive/alzahimer dataset.xlsx\")"
      ]
    },
    {
      "cell_type": "markdown",
      "metadata": {
        "id": "j0SHY2iHSPL8"
      },
      "source": [
        "# First look at data"
      ]
    },
    {
      "cell_type": "code",
      "execution_count": 24,
      "metadata": {
        "colab": {
          "base_uri": "https://localhost:8080/",
          "height": 206
        },
        "id": "Hy1QykfCOSIW",
        "outputId": "32c70b1d-06b4-43af-a1ee-4563e57b759a"
      },
      "outputs": [
        {
          "output_type": "execute_result",
          "data": {
            "text/plain": [
              "         λ1        λ2         v'        λd2         K     Ratio  \\\n",
              "0  0.299997  0.397389  48.578398   8.711975  1.000000  1.265415   \n",
              "1  0.328178  0.021133  35.394534  17.861283  0.135463  0.225872   \n",
              "2  0.257499  0.052942   1.709753   4.199340  0.014579  2.652811   \n",
              "3  0.105291  0.091101   8.672848  11.759867  0.222355  1.299436   \n",
              "4  0.240574  0.255997   1.374801   8.499183  0.237912  1.021160   \n",
              "\n",
              "   total concentration  Diagnosis  \n",
              "0             0.931337          1  \n",
              "1             0.046037          1  \n",
              "2             0.779745          1  \n",
              "3             1.267304          1  \n",
              "4             0.335522          1  "
            ],
            "text/html": [
              "\n",
              "  <div id=\"df-0d5191c8-e3d6-42ba-b898-0d6bdfdd2d9a\">\n",
              "    <div class=\"colab-df-container\">\n",
              "      <div>\n",
              "<style scoped>\n",
              "    .dataframe tbody tr th:only-of-type {\n",
              "        vertical-align: middle;\n",
              "    }\n",
              "\n",
              "    .dataframe tbody tr th {\n",
              "        vertical-align: top;\n",
              "    }\n",
              "\n",
              "    .dataframe thead th {\n",
              "        text-align: right;\n",
              "    }\n",
              "</style>\n",
              "<table border=\"1\" class=\"dataframe\">\n",
              "  <thead>\n",
              "    <tr style=\"text-align: right;\">\n",
              "      <th></th>\n",
              "      <th>λ1</th>\n",
              "      <th>λ2</th>\n",
              "      <th>v'</th>\n",
              "      <th>λd2</th>\n",
              "      <th>K</th>\n",
              "      <th>Ratio</th>\n",
              "      <th>total concentration</th>\n",
              "      <th>Diagnosis</th>\n",
              "    </tr>\n",
              "  </thead>\n",
              "  <tbody>\n",
              "    <tr>\n",
              "      <th>0</th>\n",
              "      <td>0.299997</td>\n",
              "      <td>0.397389</td>\n",
              "      <td>48.578398</td>\n",
              "      <td>8.711975</td>\n",
              "      <td>1.000000</td>\n",
              "      <td>1.265415</td>\n",
              "      <td>0.931337</td>\n",
              "      <td>1</td>\n",
              "    </tr>\n",
              "    <tr>\n",
              "      <th>1</th>\n",
              "      <td>0.328178</td>\n",
              "      <td>0.021133</td>\n",
              "      <td>35.394534</td>\n",
              "      <td>17.861283</td>\n",
              "      <td>0.135463</td>\n",
              "      <td>0.225872</td>\n",
              "      <td>0.046037</td>\n",
              "      <td>1</td>\n",
              "    </tr>\n",
              "    <tr>\n",
              "      <th>2</th>\n",
              "      <td>0.257499</td>\n",
              "      <td>0.052942</td>\n",
              "      <td>1.709753</td>\n",
              "      <td>4.199340</td>\n",
              "      <td>0.014579</td>\n",
              "      <td>2.652811</td>\n",
              "      <td>0.779745</td>\n",
              "      <td>1</td>\n",
              "    </tr>\n",
              "    <tr>\n",
              "      <th>3</th>\n",
              "      <td>0.105291</td>\n",
              "      <td>0.091101</td>\n",
              "      <td>8.672848</td>\n",
              "      <td>11.759867</td>\n",
              "      <td>0.222355</td>\n",
              "      <td>1.299436</td>\n",
              "      <td>1.267304</td>\n",
              "      <td>1</td>\n",
              "    </tr>\n",
              "    <tr>\n",
              "      <th>4</th>\n",
              "      <td>0.240574</td>\n",
              "      <td>0.255997</td>\n",
              "      <td>1.374801</td>\n",
              "      <td>8.499183</td>\n",
              "      <td>0.237912</td>\n",
              "      <td>1.021160</td>\n",
              "      <td>0.335522</td>\n",
              "      <td>1</td>\n",
              "    </tr>\n",
              "  </tbody>\n",
              "</table>\n",
              "</div>\n",
              "      <button class=\"colab-df-convert\" onclick=\"convertToInteractive('df-0d5191c8-e3d6-42ba-b898-0d6bdfdd2d9a')\"\n",
              "              title=\"Convert this dataframe to an interactive table.\"\n",
              "              style=\"display:none;\">\n",
              "        \n",
              "  <svg xmlns=\"http://www.w3.org/2000/svg\" height=\"24px\"viewBox=\"0 0 24 24\"\n",
              "       width=\"24px\">\n",
              "    <path d=\"M0 0h24v24H0V0z\" fill=\"none\"/>\n",
              "    <path d=\"M18.56 5.44l.94 2.06.94-2.06 2.06-.94-2.06-.94-.94-2.06-.94 2.06-2.06.94zm-11 1L8.5 8.5l.94-2.06 2.06-.94-2.06-.94L8.5 2.5l-.94 2.06-2.06.94zm10 10l.94 2.06.94-2.06 2.06-.94-2.06-.94-.94-2.06-.94 2.06-2.06.94z\"/><path d=\"M17.41 7.96l-1.37-1.37c-.4-.4-.92-.59-1.43-.59-.52 0-1.04.2-1.43.59L10.3 9.45l-7.72 7.72c-.78.78-.78 2.05 0 2.83L4 21.41c.39.39.9.59 1.41.59.51 0 1.02-.2 1.41-.59l7.78-7.78 2.81-2.81c.8-.78.8-2.07 0-2.86zM5.41 20L4 18.59l7.72-7.72 1.47 1.35L5.41 20z\"/>\n",
              "  </svg>\n",
              "      </button>\n",
              "      \n",
              "  <style>\n",
              "    .colab-df-container {\n",
              "      display:flex;\n",
              "      flex-wrap:wrap;\n",
              "      gap: 12px;\n",
              "    }\n",
              "\n",
              "    .colab-df-convert {\n",
              "      background-color: #E8F0FE;\n",
              "      border: none;\n",
              "      border-radius: 50%;\n",
              "      cursor: pointer;\n",
              "      display: none;\n",
              "      fill: #1967D2;\n",
              "      height: 32px;\n",
              "      padding: 0 0 0 0;\n",
              "      width: 32px;\n",
              "    }\n",
              "\n",
              "    .colab-df-convert:hover {\n",
              "      background-color: #E2EBFA;\n",
              "      box-shadow: 0px 1px 2px rgba(60, 64, 67, 0.3), 0px 1px 3px 1px rgba(60, 64, 67, 0.15);\n",
              "      fill: #174EA6;\n",
              "    }\n",
              "\n",
              "    [theme=dark] .colab-df-convert {\n",
              "      background-color: #3B4455;\n",
              "      fill: #D2E3FC;\n",
              "    }\n",
              "\n",
              "    [theme=dark] .colab-df-convert:hover {\n",
              "      background-color: #434B5C;\n",
              "      box-shadow: 0px 1px 3px 1px rgba(0, 0, 0, 0.15);\n",
              "      filter: drop-shadow(0px 1px 2px rgba(0, 0, 0, 0.3));\n",
              "      fill: #FFFFFF;\n",
              "    }\n",
              "  </style>\n",
              "\n",
              "      <script>\n",
              "        const buttonEl =\n",
              "          document.querySelector('#df-0d5191c8-e3d6-42ba-b898-0d6bdfdd2d9a button.colab-df-convert');\n",
              "        buttonEl.style.display =\n",
              "          google.colab.kernel.accessAllowed ? 'block' : 'none';\n",
              "\n",
              "        async function convertToInteractive(key) {\n",
              "          const element = document.querySelector('#df-0d5191c8-e3d6-42ba-b898-0d6bdfdd2d9a');\n",
              "          const dataTable =\n",
              "            await google.colab.kernel.invokeFunction('convertToInteractive',\n",
              "                                                     [key], {});\n",
              "          if (!dataTable) return;\n",
              "\n",
              "          const docLinkHtml = 'Like what you see? Visit the ' +\n",
              "            '<a target=\"_blank\" href=https://colab.research.google.com/notebooks/data_table.ipynb>data table notebook</a>'\n",
              "            + ' to learn more about interactive tables.';\n",
              "          element.innerHTML = '';\n",
              "          dataTable['output_type'] = 'display_data';\n",
              "          await google.colab.output.renderOutput(dataTable, element);\n",
              "          const docLink = document.createElement('div');\n",
              "          docLink.innerHTML = docLinkHtml;\n",
              "          element.appendChild(docLink);\n",
              "        }\n",
              "      </script>\n",
              "    </div>\n",
              "  </div>\n",
              "  "
            ]
          },
          "metadata": {},
          "execution_count": 24
        }
      ],
      "source": [
        "df.head()"
      ]
    },
    {
      "cell_type": "code",
      "execution_count": 26,
      "metadata": {
        "colab": {
          "base_uri": "https://localhost:8080/"
        },
        "id": "TeHMmJ_FPeVY",
        "outputId": "a21a8d0a-18dd-408d-fbd0-55790d815c36"
      },
      "outputs": [
        {
          "output_type": "execute_result",
          "data": {
            "text/plain": [
              "(569, 8)"
            ]
          },
          "metadata": {},
          "execution_count": 26
        }
      ],
      "source": [
        "df.shape"
      ]
    },
    {
      "cell_type": "code",
      "execution_count": 25,
      "metadata": {
        "colab": {
          "base_uri": "https://localhost:8080/"
        },
        "id": "mkVITIstR4eW",
        "outputId": "e0e5547b-8b3f-4c95-a2e9-112d4a90871d"
      },
      "outputs": [
        {
          "output_type": "execute_result",
          "data": {
            "text/plain": [
              "Index(['λ1', 'λ2', ' v'', ' λd2', 'K', 'Ratio', 'total concentration',\n",
              "       'Diagnosis'],\n",
              "      dtype='object')"
            ]
          },
          "metadata": {},
          "execution_count": 25
        }
      ],
      "source": [
        "df.columns"
      ]
    },
    {
      "cell_type": "code",
      "execution_count": 7,
      "metadata": {
        "colab": {
          "base_uri": "https://localhost:8080/"
        },
        "id": "gJhDcl1qRjR8",
        "outputId": "4f92fbe8-16e3-4cb0-fa77-62288e339c9b"
      },
      "outputs": [
        {
          "output_type": "execute_result",
          "data": {
            "text/plain": [
              "0"
            ]
          },
          "metadata": {},
          "execution_count": 7
        }
      ],
      "source": [
        "df.isna().sum().sum()"
      ]
    },
    {
      "cell_type": "code",
      "execution_count": 8,
      "metadata": {
        "colab": {
          "base_uri": "https://localhost:8080/"
        },
        "id": "JKumi9g6RnUk",
        "outputId": "f645612a-9de5-4753-a9bd-e71a2c33f58b"
      },
      "outputs": [
        {
          "output_type": "execute_result",
          "data": {
            "text/plain": [
              "0"
            ]
          },
          "metadata": {},
          "execution_count": 8
        }
      ],
      "source": [
        "df.duplicated().sum()"
      ]
    },
    {
      "cell_type": "code",
      "execution_count": 9,
      "metadata": {
        "colab": {
          "base_uri": "https://localhost:8080/"
        },
        "id": "rPZj86a2RcbK",
        "outputId": "bbd2c609-6968-4032-f57d-15776961cac8"
      },
      "outputs": [
        {
          "output_type": "stream",
          "name": "stdout",
          "text": [
            "<class 'pandas.core.frame.DataFrame'>\n",
            "RangeIndex: 569 entries, 0 to 568\n",
            "Data columns (total 9 columns):\n",
            " #   Column               Non-Null Count  Dtype  \n",
            "---  ------               --------------  -----  \n",
            " 0   Unnamed: 0           569 non-null    int64  \n",
            " 1   λ1                   569 non-null    float64\n",
            " 2   λ2                   569 non-null    float64\n",
            " 3    v'                  569 non-null    float64\n",
            " 4    λd2                 569 non-null    float64\n",
            " 5   K                    569 non-null    float64\n",
            " 6   Ratio                569 non-null    float64\n",
            " 7   total concentration  569 non-null    float64\n",
            " 8   Diagnosis            569 non-null    int64  \n",
            "dtypes: float64(7), int64(2)\n",
            "memory usage: 40.1 KB\n"
          ]
        }
      ],
      "source": [
        "df.info()"
      ]
    },
    {
      "cell_type": "code",
      "execution_count": 10,
      "metadata": {
        "colab": {
          "base_uri": "https://localhost:8080/",
          "height": 300
        },
        "id": "ZZRcF2k-OUsp",
        "outputId": "b8b5ca09-88b5-487a-b078-28cb0a07b828"
      },
      "outputs": [
        {
          "output_type": "execute_result",
          "data": {
            "text/plain": [
              "<pandas.io.formats.style.Styler at 0x7fe504aec550>"
            ],
            "text/html": [
              "<style type=\"text/css\">\n",
              "#T_8217e_row0_col0, #T_8217e_row0_col1, #T_8217e_row0_col2, #T_8217e_row0_col3, #T_8217e_row0_col4, #T_8217e_row0_col5, #T_8217e_row0_col6, #T_8217e_row0_col7, #T_8217e_row0_col8, #T_8217e_row7_col0 {\n",
              "  background-color: #023858;\n",
              "  color: #f1f1f1;\n",
              "}\n",
              "#T_8217e_row1_col0, #T_8217e_row5_col0 {\n",
              "  background-color: #75a9cf;\n",
              "  color: #f1f1f1;\n",
              "}\n",
              "#T_8217e_row1_col1, #T_8217e_row1_col2, #T_8217e_row1_col5, #T_8217e_row1_col6, #T_8217e_row1_col7, #T_8217e_row1_col8, #T_8217e_row2_col1, #T_8217e_row2_col2, #T_8217e_row2_col5, #T_8217e_row2_col6, #T_8217e_row2_col7, #T_8217e_row2_col8, #T_8217e_row3_col0, #T_8217e_row3_col1, #T_8217e_row3_col2, #T_8217e_row3_col3, #T_8217e_row3_col4, #T_8217e_row3_col5, #T_8217e_row3_col6, #T_8217e_row3_col7, #T_8217e_row3_col8, #T_8217e_row4_col1, #T_8217e_row4_col2, #T_8217e_row4_col4, #T_8217e_row4_col5, #T_8217e_row4_col6, #T_8217e_row4_col7, #T_8217e_row4_col8, #T_8217e_row5_col1, #T_8217e_row5_col2, #T_8217e_row5_col5, #T_8217e_row5_col6, #T_8217e_row5_col7, #T_8217e_row5_col8, #T_8217e_row6_col1, #T_8217e_row6_col2, #T_8217e_row6_col5, #T_8217e_row6_col6, #T_8217e_row6_col7, #T_8217e_row6_col8, #T_8217e_row7_col1, #T_8217e_row7_col2, #T_8217e_row7_col5, #T_8217e_row7_col8 {\n",
              "  background-color: #fff7fb;\n",
              "  color: #000000;\n",
              "}\n",
              "#T_8217e_row1_col3 {\n",
              "  background-color: #fbf4f9;\n",
              "  color: #000000;\n",
              "}\n",
              "#T_8217e_row1_col4, #T_8217e_row2_col4, #T_8217e_row5_col4 {\n",
              "  background-color: #fef6fa;\n",
              "  color: #000000;\n",
              "}\n",
              "#T_8217e_row2_col0 {\n",
              "  background-color: #c4cbe3;\n",
              "  color: #000000;\n",
              "}\n",
              "#T_8217e_row2_col3 {\n",
              "  background-color: #f9f2f8;\n",
              "  color: #000000;\n",
              "}\n",
              "#T_8217e_row4_col0 {\n",
              "  background-color: #d1d2e6;\n",
              "  color: #000000;\n",
              "}\n",
              "#T_8217e_row4_col3 {\n",
              "  background-color: #fef6fb;\n",
              "  color: #000000;\n",
              "}\n",
              "#T_8217e_row5_col3, #T_8217e_row6_col4, #T_8217e_row7_col6, #T_8217e_row7_col7 {\n",
              "  background-color: #fdf5fa;\n",
              "  color: #000000;\n",
              "}\n",
              "#T_8217e_row6_col0 {\n",
              "  background-color: #0570b0;\n",
              "  color: #f1f1f1;\n",
              "}\n",
              "#T_8217e_row6_col3 {\n",
              "  background-color: #faf3f9;\n",
              "  color: #000000;\n",
              "}\n",
              "#T_8217e_row7_col3 {\n",
              "  background-color: #3991c1;\n",
              "  color: #f1f1f1;\n",
              "}\n",
              "#T_8217e_row7_col4 {\n",
              "  background-color: #f7f0f7;\n",
              "  color: #000000;\n",
              "}\n",
              "</style>\n",
              "<table id=\"T_8217e_\" class=\"dataframe\">\n",
              "  <thead>\n",
              "    <tr>\n",
              "      <th class=\"blank level0\" >&nbsp;</th>\n",
              "      <th class=\"col_heading level0 col0\" >Unnamed: 0</th>\n",
              "      <th class=\"col_heading level0 col1\" >λ1</th>\n",
              "      <th class=\"col_heading level0 col2\" >λ2</th>\n",
              "      <th class=\"col_heading level0 col3\" > v'</th>\n",
              "      <th class=\"col_heading level0 col4\" > λd2</th>\n",
              "      <th class=\"col_heading level0 col5\" >K</th>\n",
              "      <th class=\"col_heading level0 col6\" >Ratio</th>\n",
              "      <th class=\"col_heading level0 col7\" >total concentration</th>\n",
              "      <th class=\"col_heading level0 col8\" >Diagnosis</th>\n",
              "    </tr>\n",
              "  </thead>\n",
              "  <tbody>\n",
              "    <tr>\n",
              "      <th id=\"T_8217e_level0_row0\" class=\"row_heading level0 row0\" >count</th>\n",
              "      <td id=\"T_8217e_row0_col0\" class=\"data row0 col0\" >569.000000</td>\n",
              "      <td id=\"T_8217e_row0_col1\" class=\"data row0 col1\" >569.000000</td>\n",
              "      <td id=\"T_8217e_row0_col2\" class=\"data row0 col2\" >569.000000</td>\n",
              "      <td id=\"T_8217e_row0_col3\" class=\"data row0 col3\" >569.000000</td>\n",
              "      <td id=\"T_8217e_row0_col4\" class=\"data row0 col4\" >569.000000</td>\n",
              "      <td id=\"T_8217e_row0_col5\" class=\"data row0 col5\" >569.000000</td>\n",
              "      <td id=\"T_8217e_row0_col6\" class=\"data row0 col6\" >569.000000</td>\n",
              "      <td id=\"T_8217e_row0_col7\" class=\"data row0 col7\" >569.000000</td>\n",
              "      <td id=\"T_8217e_row0_col8\" class=\"data row0 col8\" >569.000000</td>\n",
              "    </tr>\n",
              "    <tr>\n",
              "      <th id=\"T_8217e_level0_row1\" class=\"row_heading level0 row1\" >mean</th>\n",
              "      <td id=\"T_8217e_row1_col0\" class=\"data row1 col0\" >284.000000</td>\n",
              "      <td id=\"T_8217e_row1_col1\" class=\"data row1 col1\" >0.129002</td>\n",
              "      <td id=\"T_8217e_row1_col2\" class=\"data row1 col2\" >0.068627</td>\n",
              "      <td id=\"T_8217e_row1_col3\" class=\"data row1 col3\" >14.424769</td>\n",
              "      <td id=\"T_8217e_row1_col4\" class=\"data row1 col4\" >5.677398</td>\n",
              "      <td id=\"T_8217e_row1_col5\" class=\"data row1 col5\" >0.147554</td>\n",
              "      <td id=\"T_8217e_row1_col6\" class=\"data row1 col6\" >1.267785</td>\n",
              "      <td id=\"T_8217e_row1_col7\" class=\"data row1 col7\" >1.026918</td>\n",
              "      <td id=\"T_8217e_row1_col8\" class=\"data row1 col8\" >0.372583</td>\n",
              "    </tr>\n",
              "    <tr>\n",
              "      <th id=\"T_8217e_level0_row2\" class=\"row_heading level0 row2\" >std</th>\n",
              "      <td id=\"T_8217e_row2_col0\" class=\"data row2 col0\" >164.400426</td>\n",
              "      <td id=\"T_8217e_row2_col1\" class=\"data row2 col1\" >0.114033</td>\n",
              "      <td id=\"T_8217e_row2_col2\" class=\"data row2 col2\" >0.092979</td>\n",
              "      <td id=\"T_8217e_row2_col3\" class=\"data row2 col3\" >22.257436</td>\n",
              "      <td id=\"T_8217e_row2_col4\" class=\"data row2 col4\" >4.728545</td>\n",
              "      <td id=\"T_8217e_row2_col5\" class=\"data row2 col5\" >0.130932</td>\n",
              "      <td id=\"T_8217e_row2_col6\" class=\"data row2 col6\" >1.180881</td>\n",
              "      <td id=\"T_8217e_row2_col7\" class=\"data row2 col7\" >0.871157</td>\n",
              "      <td id=\"T_8217e_row2_col8\" class=\"data row2 col8\" >0.483918</td>\n",
              "    </tr>\n",
              "    <tr>\n",
              "      <th id=\"T_8217e_level0_row3\" class=\"row_heading level0 row3\" >min</th>\n",
              "      <td id=\"T_8217e_row3_col0\" class=\"data row3 col0\" >0.000000</td>\n",
              "      <td id=\"T_8217e_row3_col1\" class=\"data row3 col1\" >0.000596</td>\n",
              "      <td id=\"T_8217e_row3_col2\" class=\"data row3 col2\" >0.000213</td>\n",
              "      <td id=\"T_8217e_row3_col3\" class=\"data row3 col3\" >0.010767</td>\n",
              "      <td id=\"T_8217e_row3_col4\" class=\"data row3 col4\" >0.011005</td>\n",
              "      <td id=\"T_8217e_row3_col5\" class=\"data row3 col5\" >0.000522</td>\n",
              "      <td id=\"T_8217e_row3_col6\" class=\"data row3 col6\" >0.004655</td>\n",
              "      <td id=\"T_8217e_row3_col7\" class=\"data row3 col7\" >0.004677</td>\n",
              "      <td id=\"T_8217e_row3_col8\" class=\"data row3 col8\" >0.000000</td>\n",
              "    </tr>\n",
              "    <tr>\n",
              "      <th id=\"T_8217e_level0_row4\" class=\"row_heading level0 row4\" >25%</th>\n",
              "      <td id=\"T_8217e_row4_col0\" class=\"data row4 col0\" >142.000000</td>\n",
              "      <td id=\"T_8217e_row4_col1\" class=\"data row4 col1\" >0.057007</td>\n",
              "      <td id=\"T_8217e_row4_col2\" class=\"data row4 col2\" >0.020889</td>\n",
              "      <td id=\"T_8217e_row4_col3\" class=\"data row4 col3\" >4.385015</td>\n",
              "      <td id=\"T_8217e_row4_col4\" class=\"data row4 col4\" >2.230459</td>\n",
              "      <td id=\"T_8217e_row4_col5\" class=\"data row4 col5\" >0.053473</td>\n",
              "      <td id=\"T_8217e_row4_col6\" class=\"data row4 col6\" >0.427121</td>\n",
              "      <td id=\"T_8217e_row4_col7\" class=\"data row4 col7\" >0.365275</td>\n",
              "      <td id=\"T_8217e_row4_col8\" class=\"data row4 col8\" >0.000000</td>\n",
              "    </tr>\n",
              "    <tr>\n",
              "      <th id=\"T_8217e_level0_row5\" class=\"row_heading level0 row5\" >50%</th>\n",
              "      <td id=\"T_8217e_row5_col0\" class=\"data row5 col0\" >284.000000</td>\n",
              "      <td id=\"T_8217e_row5_col1\" class=\"data row5 col1\" >0.106033</td>\n",
              "      <td id=\"T_8217e_row5_col2\" class=\"data row5 col2\" >0.042321</td>\n",
              "      <td id=\"T_8217e_row5_col3\" class=\"data row5 col3\" >10.177971</td>\n",
              "      <td id=\"T_8217e_row5_col4\" class=\"data row5 col4\" >4.616174</td>\n",
              "      <td id=\"T_8217e_row5_col5\" class=\"data row5 col5\" >0.114895</td>\n",
              "      <td id=\"T_8217e_row5_col6\" class=\"data row5 col6\" >0.971372</td>\n",
              "      <td id=\"T_8217e_row5_col7\" class=\"data row5 col7\" >0.830397</td>\n",
              "      <td id=\"T_8217e_row5_col8\" class=\"data row5 col8\" >0.000000</td>\n",
              "    </tr>\n",
              "    <tr>\n",
              "      <th id=\"T_8217e_level0_row6\" class=\"row_heading level0 row6\" >75%</th>\n",
              "      <td id=\"T_8217e_row6_col0\" class=\"data row6 col0\" >426.000000</td>\n",
              "      <td id=\"T_8217e_row6_col1\" class=\"data row6 col1\" >0.159881</td>\n",
              "      <td id=\"T_8217e_row6_col2\" class=\"data row6 col2\" >0.082943</td>\n",
              "      <td id=\"T_8217e_row6_col3\" class=\"data row6 col3\" >18.232933</td>\n",
              "      <td id=\"T_8217e_row6_col4\" class=\"data row6 col4\" >7.891118</td>\n",
              "      <td id=\"T_8217e_row6_col5\" class=\"data row6 col5\" >0.199470</td>\n",
              "      <td id=\"T_8217e_row6_col6\" class=\"data row6 col6\" >1.689322</td>\n",
              "      <td id=\"T_8217e_row6_col7\" class=\"data row6 col7\" >1.438566</td>\n",
              "      <td id=\"T_8217e_row6_col8\" class=\"data row6 col8\" >1.000000</td>\n",
              "    </tr>\n",
              "    <tr>\n",
              "      <th id=\"T_8217e_level0_row7\" class=\"row_heading level0 row7\" >max</th>\n",
              "      <td id=\"T_8217e_row7_col0\" class=\"data row7 col0\" >568.000000</td>\n",
              "      <td id=\"T_8217e_row7_col1\" class=\"data row7 col1\" >1.000000</td>\n",
              "      <td id=\"T_8217e_row7_col2\" class=\"data row7 col2\" >1.000000</td>\n",
              "      <td id=\"T_8217e_row7_col3\" class=\"data row7 col3\" >351.768090</td>\n",
              "      <td id=\"T_8217e_row7_col4\" class=\"data row7 col4\" >32.534078</td>\n",
              "      <td id=\"T_8217e_row7_col5\" class=\"data row7 col5\" >1.000000</td>\n",
              "      <td id=\"T_8217e_row7_col6\" class=\"data row7 col6\" >6.687090</td>\n",
              "      <td id=\"T_8217e_row7_col7\" class=\"data row7 col7\" >6.757358</td>\n",
              "      <td id=\"T_8217e_row7_col8\" class=\"data row7 col8\" >1.000000</td>\n",
              "    </tr>\n",
              "  </tbody>\n",
              "</table>\n"
            ]
          },
          "metadata": {},
          "execution_count": 10
        }
      ],
      "source": [
        "df.describe().style.background_gradient()"
      ]
    },
    {
      "cell_type": "code",
      "execution_count": 11,
      "metadata": {
        "colab": {
          "base_uri": "https://localhost:8080/",
          "height": 492
        },
        "id": "o0xlBfniOd_b",
        "outputId": "7f19d370-e646-4d9a-9592-e0f2775bc591"
      },
      "outputs": [
        {
          "output_type": "execute_result",
          "data": {
            "text/plain": [
              "Text(0.5, 1.0, 'Heatmap')"
            ]
          },
          "metadata": {},
          "execution_count": 11
        },
        {
          "output_type": "display_data",
          "data": {
            "text/plain": [
              "<Figure size 576x432 with 2 Axes>"
            ],
            "image/png": "[encoded data removed]"
          },
          "metadata": {
            "needs_background": "light"
          }
        }
      ],
      "source": [
        "plt.figure(figsize=(8,6))\n",
        "sns.heatmap(df.corr(),annot=True)\n",
        "plt.title(\"Heatmap\")"
      ]
    },
    {
      "cell_type": "code",
      "execution_count": 12,
      "metadata": {
        "colab": {
          "base_uri": "https://localhost:8080/",
          "height": 727
        },
        "id": "N0zomTeiTBX9",
        "outputId": "6d74ac6a-7148-4466-a116-75eb55fe68a1"
      },
      "outputs": [
        {
          "output_type": "stream",
          "name": "stderr",
          "text": [
            "<ipython-input-12-3699fe69e7da>:2: DeprecationWarning: `np.bool` is a deprecated alias for the builtin `bool`. To silence this warning, use `bool` by itself. Doing this will not modify any behavior and is safe. If you specifically wanted the numpy scalar type, use `np.bool_` here.\n",
            "Deprecated in NumPy 1.20; for more details and guidance: https://numpy.org/devdocs/release/1.20.0-notes.html#deprecations\n",
            "  mask = np.zeros_like(corr, dtype=np.bool)\n"
          ]
        },
        {
          "output_type": "execute_result",
          "data": {
            "text/plain": [
              "Text(0.5, 1.0, 'Heatmap')"
            ]
          },
          "metadata": {},
          "execution_count": 12
        },
        {
          "output_type": "display_data",
          "data": {
            "text/plain": [
              "<Figure size 792x648 with 2 Axes>"
            ],
            "image/png": "[encoded data removed]"
          },
          "metadata": {
            "needs_background": "light"
          }
        }
      ],
      "source": [
        "corr=df.corr()\n",
        "mask = np.zeros_like(corr, dtype=np.bool)\n",
        "mask[np.triu_indices_from(mask)] = True\n",
        "# Set up the matplotlib figure\n",
        "f, ax = plt.subplots(figsize=(11, 9))\n",
        "# Generate a custom diverging colormap\n",
        "cmap = sns.diverging_palette(220, 10, as_cmap=True)\n",
        "# Draw the heatmap with the mask and correct aspect ratio\n",
        "sns.heatmap(corr, mask=mask, cmap=cmap, vmax=.5, center=0, linewidths=.5, cbar_kws={\"shrink\": .5})\n",
        "plt.title(\"Heatmap\")"
      ]
    },
    {
      "cell_type": "markdown",
      "metadata": {
        "id": "6ipHG3yfbUF0"
      },
      "source": [
        "## KNN Model"
      ]
    },
    {
      "cell_type": "code",
      "execution_count": 13,
      "metadata": {
        "id": "VtAutzqVXngG"
      },
      "outputs": [],
      "source": [
        "x = df.drop(['Diagnosis'],axis=1)\n",
        "\n",
        "y = df['Diagnosis']"
      ]
    },
    {
      "cell_type": "code",
      "execution_count": 14,
      "metadata": {
        "id": "KLK6ri_kbRQe"
      },
      "outputs": [],
      "source": [
        "from sklearn.model_selection import train_test_split\n",
        "\n",
        "x_train, x_test, y_train,y_test = train_test_split(x,y,test_size=0.2, random_state=0)"
      ]
    },
    {
      "cell_type": "code",
      "execution_count": 15,
      "metadata": {
        "id": "c0eNBWk0bZJy"
      },
      "outputs": [],
      "source": [
        "from sklearn.neighbors import KNeighborsClassifier\n",
        "knn_model=KNeighborsClassifier()\n",
        "knn_model.fit(x_train,y_train)\n",
        "y_pred=knn_model.predict(x_test)"
      ]
    },
    {
      "cell_type": "code",
      "execution_count": 16,
      "metadata": {
        "colab": {
          "base_uri": "https://localhost:8080/"
        },
        "id": "ymebN04mcM-2",
        "outputId": "2b78494d-7ed4-4a31-e000-50108303edb8"
      },
      "outputs": [
        {
          "output_type": "stream",
          "name": "stdout",
          "text": [
            "              precision    recall  f1-score   support\n",
            "\n",
            "           0       0.67      0.91      0.77        67\n",
            "           1       0.74      0.36      0.49        47\n",
            "\n",
            "    accuracy                           0.68       114\n",
            "   macro avg       0.70      0.64      0.63       114\n",
            "weighted avg       0.70      0.68      0.65       114\n",
            "\n"
          ]
        }
      ],
      "source": [
        "from sklearn.metrics import classification_report\n",
        "print(classification_report(y_test,y_pred))"
      ]
    },
    {
      "cell_type": "markdown",
      "metadata": {
        "id": "wMMevBG3cu_w"
      },
      "source": [
        "## Descion Tree Model"
      ]
    },
    {
      "cell_type": "code",
      "execution_count": 17,
      "metadata": {
        "id": "ZU-MRbV4cxHI"
      },
      "outputs": [],
      "source": [
        "from sklearn.tree import DecisionTreeClassifier\n",
        "\n",
        "dt_model=DecisionTreeClassifier()\n",
        "\n",
        "dt_model.fit(x_train,y_train)\n",
        "\n",
        "y_pred=dt_model.predict(x_test)"
      ]
    },
    {
      "cell_type": "code",
      "execution_count": 18,
      "metadata": {
        "colab": {
          "base_uri": "https://localhost:8080/"
        },
        "id": "4FSn85dndKUV",
        "outputId": "b5693855-7228-45b6-d1af-238c95c595be"
      },
      "outputs": [
        {
          "output_type": "stream",
          "name": "stdout",
          "text": [
            "              precision    recall  f1-score   support\n",
            "\n",
            "           0       0.79      0.85      0.82        67\n",
            "           1       0.76      0.68      0.72        47\n",
            "\n",
            "    accuracy                           0.78       114\n",
            "   macro avg       0.78      0.77      0.77       114\n",
            "weighted avg       0.78      0.78      0.78       114\n",
            "\n"
          ]
        }
      ],
      "source": [
        "from sklearn.metrics import classification_report\n",
        "print(classification_report(y_test,y_pred))"
      ]
    }
  ],
  "metadata": {
    "colab": {
      "collapsed_sections": [
        "gdhrJHexMqDS",
        "j0SHY2iHSPL8",
        "K_IsfEMpUfi6",
        "09hMG9lJZZQe",
        "HvZfGwoVeW4l"
      ],
      "provenance": []
    },
    "kernelspec": {
      "display_name": "Python 3.10.2 64-bit",
      "language": "python",
      "name": "python3"
    },
    "language_info": {
      "name": "python",
      "version": "3.10.2"
    },
    "vscode": {
      "interpreter": {
        "hash": "fbc768028c3e6ead51d9a200ddcb2ec858ae62844dcd1994729a8279be9b48f2"
      }
    }
  },
  "nbformat": 4,
  "nbformat_minor": 0
}